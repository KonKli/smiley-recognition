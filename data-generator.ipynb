{
 "cells": [
  {
   "cell_type": "markdown",
   "metadata": {},
   "source": [
    "Data Generator"
   ]
  },
  {
   "cell_type": "code",
   "execution_count": 1,
   "metadata": {},
   "outputs": [],
   "source": [
    "# Imports\n",
    "import numpy as np\n",
    "import random\n",
    "from PIL import Image, ImageOps"
   ]
  },
  {
   "cell_type": "code",
   "execution_count": 2,
   "metadata": {},
   "outputs": [],
   "source": [
    "def add_images(images):\n",
    "    \"\"\"\n",
    "    Takes a list of images converts them into numpy arrays adds them together and returns the resulting image as a numpy array.\n",
    "    :param images: list of images\n",
    "    :return: resulting image as numpy array\n",
    "    \"\"\"\n",
    "    result_image = np.zeros((28, 28))\n",
    "    for image in images:\n",
    "        image = ImageOps.invert(image)\n",
    "        result_image = result_image + np.asanyarray(image, dtype=\"int32\")\n",
    "    return result_image"
   ]
  },
  {
   "cell_type": "code",
   "execution_count": 3,
   "metadata": {},
   "outputs": [],
   "source": [
    "def generate(n, source, destination, train_or_test):\n",
    "    \"\"\"\n",
    "    Generates n different images from the sourceimages and saves them as a numpy file. Additionally the labels are saved in a different numpy file.\n",
    "    :param n: number of how many instances should be generated\n",
    "    :param source: path to the folder with the images that should be used for the generation\n",
    "    :param train_or_test: specifys the name of the resulting numpy files\n",
    "    \"\"\"\n",
    "    generated_labels = []\n",
    "    generated_images = []\n",
    "    \n",
    "    label_for_random = ['happy-mouth', 'sad-mouth', 'neutral-mouth', 'o-mouth']\n",
    "    \n",
    "    # Specify the size of out of how many pictures can be chosen, because the test data source is a lot smaller than the train data source \n",
    "    s1 = 20\n",
    "    s2 = 40\n",
    "    if train_or_test == 'test':\n",
    "        s1, s2 = 10, 10\n",
    "    \n",
    "    for x in range(n):\n",
    "        # Choose one of the labels for this instance randomly\n",
    "        label = label_for_random[random.randint(0, 3)]\n",
    "        generated_labels.append(label_for_random.index(label))\n",
    "        \n",
    "        # Choose one instance of each category that a smiley face needs\n",
    "        images = [Image.open(source + '\\\\left-eye\\\\' + str(random.randint(1, s1)) + '.png').convert('L'),\n",
    "                  Image.open(source + '\\\\right-eye\\\\' + str(random.randint(1, s1)) + '.png').convert('L'),\n",
    "                  Image.open(source + '\\\\' + label + '\\\\' + str(random.randint(1, s2)) + '.png').convert('L')]\n",
    "        \n",
    "        # Should there be a nose or not?\n",
    "        nose = random.randint(0, 1)\n",
    "        if nose == 1:\n",
    "            images.append(Image.open(source + '\\\\nose\\\\' + str(random.randint(1, 5)) + '.png').convert('L'))\n",
    "        \n",
    "        # Mirror the mouth in some cases to create even more variety\n",
    "        mirror_mouth = random.randint(0, 1)\n",
    "        if mirror_mouth == 1:\n",
    "            images[2] = ImageOps.mirror(images[2])\n",
    "        \n",
    "        # Merge the images together and save it to the list of all generated images\n",
    "        new_image = add_images(images)\n",
    "        generated_images.append(new_image)\n",
    "        \n",
    "    # When all images are generated save them and the labels to the destination as numpy files\n",
    "    np.save(destination + '\\\\generated-' + train_or_test + '-labels.npy', generated_labels)\n",
    "    np.save(destination + '\\\\generated-' + train_or_test + '-images.npy', np.array(generated_images))"
   ]
  },
  {
   "cell_type": "code",
   "execution_count": 4,
   "metadata": {},
   "outputs": [],
   "source": [
    "# Generate training data\n",
    "generate(10000, 'data\\\\train-data-source', 'data', 'train')"
   ]
  },
  {
   "cell_type": "code",
   "execution_count": 5,
   "metadata": {},
   "outputs": [],
   "source": [
    "# Generate test data\n",
    "generate(1000, 'data\\\\test-data-source', 'data', 'test')"
   ]
  }
 ],
 "metadata": {
  "kernelspec": {
   "display_name": "Python 3",
   "language": "python",
   "name": "python3"
  },
  "language_info": {
   "codemirror_mode": {
    "name": "ipython",
    "version": 3
   },
   "file_extension": ".py",
   "mimetype": "text/x-python",
   "name": "python",
   "nbconvert_exporter": "python",
   "pygments_lexer": "ipython3",
   "version": "3.6.4"
  }
 },
 "nbformat": 4,
 "nbformat_minor": 4
}
