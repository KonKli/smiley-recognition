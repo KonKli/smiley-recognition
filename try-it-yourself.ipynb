{
 "cells": [
  {
   "cell_type": "markdown",
   "metadata": {},
   "source": [
    "Try it yourself!"
   ]
  },
  {
   "cell_type": "code",
   "execution_count": 1,
   "metadata": {},
   "outputs": [],
   "source": [
    "# Imports\n",
    "from tkinter import Tk, Canvas, mainloop, Label, Button\n",
    "from pynput import mouse as m\n",
    "from tensorflow.keras import models\n",
    "from tensorflow.keras import layers\n",
    "import numpy as np\n",
    "from tensorflow.keras.layers import MaxPooling2D, Dense, Flatten, Dropout"
   ]
  },
  {
   "cell_type": "code",
   "execution_count": 2,
   "metadata": {},
   "outputs": [],
   "source": [
    "# Class for the Drawing Panel and the Network\n",
    "class DrawPanel:\n",
    "\n",
    "    def __init__(self):\n",
    "\n",
    "        # Define the Network\n",
    "\n",
    "        num_filters = 8\n",
    "        filter_size = 3\n",
    "        pool_size = 2\n",
    "\n",
    "        self.network = models.Sequential()\n",
    "        self.network.add(layers.Conv2D(num_filters, filter_size, input_shape=(28, 28, 1), padding='same',\n",
    "                                       activation='relu'))\n",
    "        self.network.add(MaxPooling2D(pool_size=pool_size))\n",
    "        self.network.add(layers.Conv2D(num_filters, filter_size, input_shape=(28, 28, 1), padding='same',\n",
    "                                       activation='relu'))\n",
    "        self.network.add(MaxPooling2D(pool_size=pool_size))\n",
    "        self.network.add(Dropout(0.6))\n",
    "        self.network.add(Flatten())\n",
    "        self.network.add(Dense(256, activation='relu'))\n",
    "        self.network.add(Dropout(0.6))\n",
    "        self.network.add(Dense(128, activation='relu'))\n",
    "        self.network.add(Dense(4, activation='softmax'))\n",
    "        self.network.compile('adam', loss='categorical_crossentropy', metrics=['accuracy'],)\n",
    "        \n",
    "        # Load the weights for the network\n",
    "        self.network.load_weights('cnn.h5')\n",
    "\n",
    "        # Variable declarations for drawing\n",
    "        self.drawing = False\n",
    "        self.oldX, self.oldY = -1, -1\n",
    "\n",
    "        # Define the \"backend\" of the grid that is used for drawing\n",
    "        self.grid = []\n",
    "        for i in range(28):\n",
    "            self.grid.append([])\n",
    "        for k in range(28):\n",
    "            for j in range(28):\n",
    "                self.grid[k].append(0)\n",
    "\n",
    "        # Instantiate the frame\n",
    "        self.root = Tk()\n",
    "        self.root.title('Smiley Recognition')\n",
    "        self.root.geometry('280x360+0+0')\n",
    "\n",
    "        # Instantiate the canvas and binds the event for the drawing\n",
    "        self.canvas = Canvas(self.root, width=280, height=280, bg='white', cursor='dot')\n",
    "        self.canvas.pack()\n",
    "        self.canvas.bind(\"<Motion>\", self.paint)\n",
    "\n",
    "        # Instantiates the label with the detected chars\n",
    "        self.label = Label(self.root, text=\"nothing detected yet\")\n",
    "        self.label.pack()\n",
    "\n",
    "        # Clear button\n",
    "        self.clear = Button(self.root, text='clear', command=self.clear)\n",
    "        self.clear.pack()\n",
    "\n",
    "        # Predict button\n",
    "        self.predict_button = Button(self.root, text='predict', command=self.predict_drawing)\n",
    "        self.predict_button.pack()\n",
    "\n",
    "        # Instantiate the mouse listener\n",
    "        self.mouseListener = m.Listener(on_click=self.on_click)\n",
    "        self.mouseListener.start()\n",
    "\n",
    "        # Mainloop for the frame\n",
    "        mainloop()\n",
    "\n",
    "    def paint(self, event):\n",
    "        # Gets called when the user draws onto the canvas and ensures that only the squares of the 28x28 scheme are filled\n",
    "        if self.drawing:\n",
    "            x = event.x - event.x % 10\n",
    "            y = event.y - event.y % 10\n",
    "            self.canvas.create_rectangle(x, y, x + 20, y + 20, fill=\"black\", outline=\"\")\n",
    "            try:\n",
    "                self.grid[int(x / 10)][int(y / 10)] = 1\n",
    "            except IndexError:\n",
    "                pass\n",
    "\n",
    "    def on_click(self, x, y, button, pressed):\n",
    "        # Enables the drawing mechanic\n",
    "        self.drawing = True\n",
    "        if not pressed:\n",
    "            self.drawing = False\n",
    "\n",
    "    def clear(self):\n",
    "        # Clear the canvas and reset the \"backend\" grid\n",
    "        self.canvas.delete(\"all\")\n",
    "        self.label.config(text='')\n",
    "        for k in range(28):\n",
    "            for j in range(28):\n",
    "                self.grid[k][j] = 0\n",
    "\n",
    "    def predict_drawing(self):\n",
    "        # Takes the image that has been drawn, transforms it and uses the network to predict the output\n",
    "        image = np.array(self.grid).T\n",
    "        image = image - 0.5\n",
    "        image = np.expand_dims([image], axis=3)\n",
    "        # print(image.reshape((28, 28, 1)).shape)\n",
    "        prediction = self.network.predict(image)\n",
    "        label = ['happy', 'sad', 'neutral', 'surprised']\n",
    "        self.label.config(text=label[np.argmax(prediction, axis=1)[0]])"
   ]
  },
  {
   "cell_type": "code",
   "execution_count": 3,
   "metadata": {},
   "outputs": [
    {
     "data": {
      "text/plain": [
       "<__main__.DrawPanel at 0x25d807074a8>"
      ]
     },
     "execution_count": 3,
     "metadata": {},
     "output_type": "execute_result"
    }
   ],
   "source": [
    "DrawPanel()"
   ]
  }
 ],
 "metadata": {
  "kernelspec": {
   "display_name": "Python 3",
   "language": "python",
   "name": "python3"
  },
  "language_info": {
   "codemirror_mode": {
    "name": "ipython",
    "version": 3
   },
   "file_extension": ".py",
   "mimetype": "text/x-python",
   "name": "python",
   "nbconvert_exporter": "python",
   "pygments_lexer": "ipython3",
   "version": "3.6.4"
  }
 },
 "nbformat": 4,
 "nbformat_minor": 4
}
