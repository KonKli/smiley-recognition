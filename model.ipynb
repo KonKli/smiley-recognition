{
 "cells": [
  {
   "cell_type": "markdown",
   "metadata": {},
   "source": [
    "Model, Convolutional Neural Network"
   ]
  },
  {
   "cell_type": "code",
   "execution_count": 1,
   "metadata": {},
   "outputs": [],
   "source": [
    "# Imports\n",
    "import numpy as np\n",
    "from tensorflow.keras import models, layers\n",
    "from tensorflow.keras.utils import to_categorical\n",
    "from tensorflow.keras.layers import MaxPooling2D, Dense, Flatten, Dropout"
   ]
  },
  {
   "cell_type": "code",
   "execution_count": 2,
   "metadata": {},
   "outputs": [],
   "source": [
    "# Load train images\n",
    "train_images = np.load('data\\\\generated-train-images.npy')\n",
    "\n",
    "# Load train labels\n",
    "train_labels = np.load('data\\\\generated-train-labels.npy')\n",
    "\n",
    "# Load train images\n",
    "test_images = np.load('data\\\\generated-test-images.npy')\n",
    "\n",
    "# Load train labels\n",
    "test_labels = np.load('data\\\\generated-test-labels.npy')"
   ]
  },
  {
   "cell_type": "code",
   "execution_count": 3,
   "metadata": {},
   "outputs": [],
   "source": [
    "# Image preparation\n",
    "\n",
    "# Normalize the images\n",
    "train_images = (train_images / 255) - 0.5\n",
    "test_images = (test_images / 255) - 0.5\n",
    "\n",
    "# Reshape the images.\n",
    "train_images = np.expand_dims(train_images, axis=3)\n",
    "test_images = np.expand_dims(test_images, axis=3)"
   ]
  },
  {
   "cell_type": "code",
   "execution_count": 4,
   "metadata": {},
   "outputs": [],
   "source": [
    "# Set params\n",
    "num_filters = 8\n",
    "filter_size = 3\n",
    "pool_size = 2\n",
    "\n",
    "# Define the model\n",
    "network = models.Sequential()\n",
    "network.add(layers.Conv2D(num_filters, filter_size, input_shape=(28, 28, 1), padding='same', activation='relu'))\n",
    "network.add(MaxPooling2D(pool_size=pool_size))\n",
    "network.add(layers.Conv2D(num_filters, filter_size, input_shape=(28, 28, 1), padding='same', activation='relu'))\n",
    "network.add(MaxPooling2D(pool_size=pool_size))\n",
    "network.add(Dropout(0.6))\n",
    "network.add(Flatten())\n",
    "network.add(Dense(256, activation='relu'))\n",
    "network.add(Dropout(0.6))\n",
    "network.add(Dense(128, activation='relu'))\n",
    "network.add(Dense(4, activation='softmax'))\n",
    "network.compile('adam', loss='categorical_crossentropy', metrics=['accuracy'])"
   ]
  },
  {
   "cell_type": "code",
   "execution_count": 5,
   "metadata": {},
   "outputs": [
    {
     "name": "stdout",
     "output_type": "stream",
     "text": [
      "Epoch 1/3\n",
      "313/313 [==============================] - 2s 7ms/step - loss: 0.5797 - accuracy: 0.7652 - val_loss: 0.4237 - val_accuracy: 0.8590\n",
      "Epoch 2/3\n",
      "313/313 [==============================] - 2s 7ms/step - loss: 0.1763 - accuracy: 0.9365 - val_loss: 0.2324 - val_accuracy: 0.9220\n",
      "Epoch 3/3\n",
      "313/313 [==============================] - 2s 7ms/step - loss: 0.1001 - accuracy: 0.9629 - val_loss: 0.2400 - val_accuracy: 0.9230\n"
     ]
    },
    {
     "data": {
      "text/plain": [
       "<tensorflow.python.keras.callbacks.History at 0x263a8956550>"
      ]
     },
     "execution_count": 5,
     "metadata": {},
     "output_type": "execute_result"
    }
   ],
   "source": [
    "# Train and run the model\n",
    "network.fit(\n",
    "    train_images,\n",
    "    to_categorical(train_labels),\n",
    "    epochs=3,\n",
    "    validation_data=(test_images, to_categorical(test_labels)),\n",
    ")"
   ]
  },
  {
   "cell_type": "code",
   "execution_count": 6,
   "metadata": {},
   "outputs": [],
   "source": [
    "# Save the weights\n",
    "network.save_weights('cnn.h5')"
   ]
  },
  {
   "cell_type": "code",
   "execution_count": 7,
   "metadata": {},
   "outputs": [
    {
     "name": "stdout",
     "output_type": "stream",
     "text": [
      "accuracy:  0.922\n"
     ]
    }
   ],
   "source": [
    "# Evaluate the model\n",
    "predictions = network.predict(test_images)\n",
    "\n",
    "prediction_list = np.argmax(predictions, axis=1)\n",
    "\n",
    "correct = 0\n",
    "\n",
    "for i in range(len(prediction_list) - 1):\n",
    "    if prediction_list[i] == test_labels[i]:\n",
    "        correct += 1\n",
    "\n",
    "print('accuracy: ', correct / len(predictions))"
   ]
  }
 ],
 "metadata": {
  "kernelspec": {
   "display_name": "Python 3",
   "language": "python",
   "name": "python3"
  },
  "language_info": {
   "codemirror_mode": {
    "name": "ipython",
    "version": 3
   },
   "file_extension": ".py",
   "mimetype": "text/x-python",
   "name": "python",
   "nbconvert_exporter": "python",
   "pygments_lexer": "ipython3",
   "version": "3.6.4"
  }
 },
 "nbformat": 4,
 "nbformat_minor": 4
}
